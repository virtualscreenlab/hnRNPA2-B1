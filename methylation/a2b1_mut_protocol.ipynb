{
 "cells": [
  {
   "cell_type": "code",
   "execution_count": 41,
   "metadata": {},
   "outputs": [
    {
     "name": "stdout",
     "output_type": "stream",
     "text": [
      "PyRosetta-4 2021 [Rosetta PyRosetta4.Release.python36.ubuntu 2021.50+release.4ff291ed8257ec2d0cd4d96ae4289e1d39ce1007 2021-12-16T00:25:15] retrieved from: http://www.pyrosetta.org\n",
      "(C) Copyright Rosetta Commons Member Institutions. Created in JHU by Sergey Lyskov and PyRosetta Team.\n",
      "\u001b[0mcore.init: \u001b[0mChecking for fconfig files in pwd and ./rosetta/flags\n",
      "\u001b[0mcore.init: \u001b[0mRosetta version: PyRosetta4.Release.python36.ubuntu r306 2021.50+release.4ff291ed825 4ff291ed8257ec2d0cd4d96ae4289e1d39ce1007 http://www.pyrosetta.org 2021-12-16T00:25:15\n",
      "\u001b[0mcore.init: \u001b[0mcommand: PyRosetta -ex1 -ex2aro -database /media/asus/shityakoff/miniconda3.5/envs/py/lib/python3.6/site-packages/pyrosetta-2021.50+release.4ff291ed825-py3.6-linux-x86_64.egg/pyrosetta/database\n",
      "\u001b[0mbasic.random.init_random_generator: \u001b[0m'RNG device' seed mode, using '/dev/urandom', seed=-82770978 seed_offset=0 real_seed=-82770978\n",
      "\u001b[0mbasic.random.init_random_generator: \u001b[0mRandomGenerator:init: Normal mode, seed=-82770978 RG_type=mt19937\n",
      "\u001b[0mcore.import_pose.import_pose: \u001b[0mFile 'wt.pdb' automatically determined to be of type PDB\n",
      "\u001b[0mcore.io.pose_from_sfr.PoseFromSFRBuilder: \u001b[0m\u001b[1m[ WARNING ]\u001b[0m discarding 2 atoms at position 1 in file wt.pdb. Best match rsd_type:  ARG:NtermProteinFull\n",
      "PDB file name: wt.pdb\n",
      "Total residues: 179\n",
      "Sequence: REKEQFRKLFIGGLSFETTEESLRNYYEQWGKLTDCVVMRDPASKRSRGFGFVTFSSMAEVDAAMAARPHSIDGRVVEPKRAVAREESGKPGAHVTVKKLFVGGIKEDTEEHHLRDYFEEYGKIDTIEIITDRQSGKKRGFGFVTFDDHDPVDKIVLQKYHTINGHNAEVRKALSRQEM\n",
      "Fold tree:\n",
      "FOLD_TREE  EDGE 1 179 -1 \n",
      "\u001b[0mcore.scoring.ScoreFunctionFactory: \u001b[0mSCOREFUNCTION: \u001b[32mref2015\u001b[0m\n",
      "ScoreFunction::show():\n",
      "weights: (fa_atr 1) (fa_rep 0.55) (fa_sol 1) (fa_intra_rep 0.005) (fa_intra_sol_xover4 1) (lk_ball_wtd 1) (fa_elec 1) (pro_close 1.25) (hbond_sr_bb 1) (hbond_lr_bb 1) (hbond_bb_sc 1) (hbond_sc 1) (dslf_fa13 1.25) (omega 0.4) (fa_dun 0.7) (p_aa_pp 0.6) (yhh_planarity 0.625) (ref 1) (rama_prepro 0.45)\n",
      "energy_method_options: EnergyMethodOptions::show: aa_composition_setup_files: \n",
      "EnergyMethodOptions::show: mhc_epitope_setup_files: \n",
      "EnergyMethodOptions::show: netcharge_setup_files: \n",
      "EnergyMethodOptions::show: aspartimide_penalty_value: 25\n",
      "EnergyMethodOptions::show: etable_type: FA_STANDARD_DEFAULT\n",
      "analytic_etable_evaluation: 1\n",
      "EnergyMethodOptions::show: method_weights: ref 1.32468 3.25479 -2.14574 -2.72453 1.21829 0.79816 -0.30065 2.30374 -0.71458 1.66147 1.65735 -1.34026 -1.64321 -1.45095 -0.09474 -0.28969 1.15175 2.64269 2.26099 0.58223\n",
      "EnergyMethodOptions::show: method_weights: free_res\n",
      "EnergyMethodOptions::show: unfolded_energies_type: UNFOLDED_SCORE12\n",
      "EnergyMethodOptions::show: split_unfolded_label_type: SPLIT_UNFOLDED_MM\n",
      "EnergyMethodOptions::show: split_unfolded_value_type: SPLIT_UNFOLDED_BOLTZ\n",
      "EnergyMethodOptions::show: atom_vdw_atom_type_set_name: centroid\n",
      "EnergyMethodOptions::show: covalent_labeling_input: \n",
      "EnergyMethodOptions::show: covalent_labeling_fa_input: \n",
      "EnergyMethodOptions::show: hrf_dynamics_input: \n",
      "EnergyMethodOptions::show: depc_ms_input: \n",
      "EnergyMethodOptions::show: exclude_protein_protein_fa_elec: false\n",
      "EnergyMethodOptions::show: exclude_RNA_RNA_fa_elec: false\n",
      "EnergyMethodOptions::show: exclude_RNA_protein_fa_elec: false\n",
      "EnergyMethodOptions::show: exclude_monomer_fa_elec: false\n",
      "EnergyMethodOptions::show: elec_max_dis: 5.5\n",
      "EnergyMethodOptions::show: elec_min_dis: 1.6\n",
      "EnergyMethodOptions::show: elec_die: 10\n",
      "EnergyMethodOptions::show: elec_no_dis_dep_die: false\n",
      "EnergyMethodOptions::show: elec_sigmoidal_die: true\n",
      "EnergyMethodOptions::show: elec_sigmoidal_D: 80\n",
      "EnergyMethodOptions::show: elec_sigmoidal_D0: 6\n",
      "EnergyMethodOptions::show: elec_sigmoidal_S: 0.4\n",
      "EnergyMethodOptions::show: smooth_fa_elec: true\n",
      "EnergyMethodOptions::show: grpelec_fade_type: false\n",
      "EnergyMethodOptions::show: grpelec_fade_param1: 1\n",
      "EnergyMethodOptions::show: grpelec_fade_param2: 1\n",
      "EnergyMethodOptions::show: grpelec_fade_hbond: 0\n",
      "EnergyMethodOptions::show: grp_cpfxn: 1\n",
      "EnergyMethodOptions::show: elec_group_file: /scoring/score_functions/elec_group_def.dat\n",
      "EnergyMethodOptions::show: grpelec_context_dependent: 0\n",
      "EnergyMethodOptions::show: use_polarization: true\n",
      "EnergyMethodOptions::show: use_gen_kirkwood: true\n",
      "EnergyMethodOptions::show: protein_dielectric: 1\n",
      "EnergyMethodOptions::show: water_dielectric: 78.3\n",
      "EnergyMethodOptions::show: exclude_DNA_DNA: false\n",
      "EnergyMethodOptions::show: exclude_intra_res_protein: false\n",
      "EnergyMethodOptions::show: count_pair_hybrid: false\n",
      "EnergyMethodOptions::show: count_pair_full: false\n",
      "EnergyMethodOptions::show: put_intra_into_total: false\n",
      "EnergyMethodOptions::show: geom_sol_interres_path_distance_cutoff: false\n",
      "EnergyMethodOptions::show: geom_sol_intrares_path_distance_cutoff: true\n",
      "EnergyMethodOptions::show: eval_intrares_elec_ST_only: false\n",
      "EnergyMethodOptions::show: envsmooth_zero_negatives: false\n",
      "EnergyMethodOptions::show: cst_max_seq_sep: 18446744073709551615\n",
      "EnergyMethodOptions::show: pb_bound_tag: bound\n",
      "EnergyMethodOptions::show: pb_unbound_tag: unbound\n",
      "EnergyMethodOptions::show: arg_cation_pi_his_can_be_pi: 1\n",
      "EnergyMethodOptions::show: ordered_wat_penalty: 1.221\n",
      "EnergyMethodOptions::show: ordered_pt_wat_penalty: 2.709\n",
      "EnergyMethodOptions::show: nmer_ref_seq_length_: 9\n",
      "EnergyMethodOptions::show: nmer_svm_term_length_: 3\n",
      "EnergyMethodOptions::show: nmer_svm_pssm_feat_: 1\n",
      "EnergyMethodOptions::show: nmer_svm_scorecut_defined_: 0\n",
      "EnergyMethodOptions::show: nmer_svm_scorecut_: 0\n",
      "EnergyMethodOptions::show: nmer_svm_avg_rank_as_energy_: 0\n",
      "EnergyMethodOptions::show: nmer_svm_aa_matrix_defined_: 0\n",
      "EnergyMethodOptions::show: nmer_svm_aa_matrix_: \n",
      "EnergyMethodOptions::show: nmer_svm_list_defined_: 0\n",
      "EnergyMethodOptions::show: nmer_svm_list_: \n",
      "EnergyMethodOptions::show: nmer_svm_defined_: 0\n",
      "EnergyMethodOptions::show: nmer_svm_: \n",
      "EnergyMethodOptions::show: nmer_svm_rank_list_defined_: 0\n",
      "EnergyMethodOptions::show: nmer_svm_rank_list_: \n",
      "EnergyMethodOptions::show: nmer_svm_rank_defined_: 0\n",
      "EnergyMethodOptions::show: nmer_svm_rank_: \n",
      "EnergyMethodOptions::show: voids_penalty_energy_containing_cones_cutoff_:6\n",
      "EnergyMethodOptions::show: voids_penalty_energy_cone_distance_cutoff_: 8\n",
      "EnergyMethodOptions::show: voids_penalty_energy_cone_dotproduct_cutoff_: 0.1\n",
      "EnergyMethodOptions::show: voids_penalty_energy_voxel_grid_padding_: 1\n",
      "EnergyMethodOptions::show: voids_penalty_energy_voxel_size_: 0.5\n",
      "EnergyMethodOptions::show: voids_penalty_energy_disabled_except_during_packing_: TRUE\n",
      "EnergyMethodOptions::show: hbnet_bonus_ramping_function_: \"quadratic\"\n",
      "EnergyMethodOptions::show: hbnet_max_network_size_: 0\n",
      "EnergyMethodOptions::show: approximate_buried_unsat_penalty_hbond_energy_threshold_: -0.25\n",
      "EnergyMethodOptions::show: approximate_buried_unsat_penalty_burial_atomic_depth_: 4.5\n",
      "EnergyMethodOptions::show: approximate_buried_unsat_penalty_burial_probe_radius_: 2.3\n",
      "EnergyMethodOptions::show: approximate_buried_unsat_penalty_burial_resolution_: 0.5\n",
      "EnergyMethodOptions::show: approximate_buried_unsat_penalty_oversat_penalty_: 1\n",
      "EnergyMethodOptions::show: approximate_buried_unsat_penalty_assume_const_backbone_:1\n",
      "EnergyMethodOptions::show: approximate_buried_unsat_penalty_natural_corrections1_:0\n",
      "EnergyMethodOptions::show: approximate_buried_unsat_penalty_hbond_bonus_cross_chain_:0\n",
      "EnergyMethodOptions::show: approximate_buried_unsat_penalty_hbond_bonus_ser_to_helix_bb_:0\n",
      "EnergyMethodOptions::show: approximate_buried_unsat_penalty_lys_ok_with_1_:0\n",
      "EnergyMethodOptions::show: target_clash_pdb_:\n",
      "EnergyMethodOptions::show: dump_trajectory_prefix_: traj\n",
      "EnergyMethodOptions::show: dump_trajectory_gz_: FALSE\n",
      "EnergyMethodOptions::show: dump_trajectory_stride_: 1\n",
      "EnergyMethodOptions::show: bond_angle_central_atoms_to_score:\n",
      "EnergyMethodOptions::show: bond_angle_residue_type_param_set: none\n",
      "HBondOptions::show: hb_max_energy: 0\n",
      "HBondOptions::show: exclude_DNA_DNA: false\n",
      "HBondOptions::show: exclude_intra_res_protein_: false\n",
      "HBondOptions::show: exclude_intra_res_RNA_: false\n",
      "HBondOptions::show: put_intra_into_total_: false\n",
      "HBondOptions::show: exclude_self_hbonds: true\n",
      "HBondOptions::show: use_hb_env_dep: false\n",
      "HBondOptions::show: use_hb_env_dep_DNA: true\n",
      "HBondOptions::show: smooth_hb_env_dep: true\n",
      "HBondOptions::show: bb_donor_acceptor_check: true\n",
      "HBondOptions::show: decompose_bb_hb_into_pair_energies: false\n",
      "HBondOptions::show: params_database_tag_: ref2015_params\n",
      "HBondOptions::show: use_sp2_chi_penalty_: true\n",
      "HBondOptions::show: sp2_BAH180_rise_: 0.75\n",
      "HBondOptions::show: sp2_outer_width_: 0.357\n",
      "HBondOptions::show: measure_sp3acc_BAH_from_hvy_: true\n",
      "HBondOptions::show: fade_energy_: 1\n",
      "HBondOptions::show: exclude_ether_oxygens_: 0\n",
      "HBondOptions::show: Mbhbond: false \n",
      "HbondOptions::show: mphbond: false\n",
      "HBondOptions::show: hbond_energy_shift: 0\n",
      "HBondOptions::show: water_hybrid_sf: false\n",
      "RNA_EnergyMethodOptions::show: syn_G_potential_bonus: 0\n",
      "RNA_EnergyMethodOptions::show: torsion_potential: ps_04282011\n",
      "RNA_EnergyMethodOptions::show: suiteness_bonus: Richardson\n",
      "RNA_EnergyMethodOptions::show: rna_base_pair_xy_filename: scoring/rna/rna_base_pair_xy.dat\n",
      "FreeDOF_Options::show: free_suite_bonus: -1\n",
      "FreeDOF_Options::show: free_2HOprime_bonus: -0.5\n",
      "FreeDOF_Options::show: free_sugar_bonus: -1\n",
      "FreeDOF_Options::show: pack_phosphate_penalty: 0.25\n",
      "FreeDOF_Options::show: free_side_chain_bonus: -0.5\n",
      "\n",
      "\n"
     ]
    }
   ],
   "source": [
    "from pyrosetta.rosetta.protocols import *\n",
    "from pyrosetta import * \n",
    "init()\n",
    "pose = pose_from_pdb(\"wt.pdb\")\n",
    "testPose = Pose()\n",
    "testPose.assign(pose)\n",
    "print(testPose)\n",
    "\n",
    "sfxn = get_fa_scorefxn()\n",
    "#sfxn = pyrosetta.create_score_function('ref2015_cart')\n",
    "#relax = pyrosetta.rosetta.protocols.relax.ClassicRelax()\n",
    "#cycles = 2\n",
    "#relax = pyrosetta.rosetta.protocols.relax.FastRelax(scorefxn, cycles)\n",
    "#relax.cartesian(True)\n",
    "#relax.minimize_bond_angles(True)\n",
    "#relax.minimize_bond_lengths(True)\n",
    "#relax.set_scorefxn(sfxn)\n",
    "#relax.apply(pose)\n",
    "print(sfxn)"
   ]
  },
  {
   "cell_type": "code",
   "execution_count": 42,
   "metadata": {},
   "outputs": [
    {
     "name": "stdout",
     "output_type": "stream",
     "text": [
      "\u001b[0mcore.scoring.ScoreFunctionFactory: \u001b[0mSCOREFUNCTION: \u001b[32mref2015\u001b[0m\n",
      "\u001b[0mcore.pack.pack_rotamers: \u001b[0mbuilt 58 rotamers at 13 positions.\n",
      "\u001b[0mcore.pack.interaction_graph.interaction_graph_factory: \u001b[0mInstantiating DensePDInteractionGraph\n"
     ]
    }
   ],
   "source": [
    "from additional_scripts import predict_ddG\n",
    "sfxn = get_score_function()\n",
    "reference_pose = predict_ddG.mutate_residue(pose, 52, \"F\", 8.0, sfxn)"
   ]
  },
  {
   "cell_type": "code",
   "execution_count": 43,
   "metadata": {},
   "outputs": [
    {
     "name": "stdout",
     "output_type": "stream",
     "text": [
      "\u001b[0mcore.pack.pack_rotamers: \u001b[0mbuilt 56 rotamers at 13 positions.\n",
      "\u001b[0mcore.pack.interaction_graph.interaction_graph_factory: \u001b[0mInstantiating PDInteractionGraph\n",
      "17.299121153587013\n"
     ]
    }
   ],
   "source": [
    "# Score the alanine reference pose\n",
    "score_wt = sfxn.score(reference_pose)\n",
    "# Repack and score the L111 conformation\n",
    "pose_mut = predict_ddG.mutate_residue(pose, 52, \"L\", 8.0, sfxn)\n",
    "score_mut = sfxn.score(pose_mut)\n",
    "# Compute the ddG of mutation as mutant_score - native_score (final-initial)\n",
    "ddG = score_mut - score_wt\n",
    "print(ddG)"
   ]
  },
  {
   "cell_type": "code",
   "execution_count": 44,
   "metadata": {},
   "outputs": [],
   "source": [
    "#pose.dump_pdb( \"wt_fast.pdb\" )"
   ]
  },
  {
   "cell_type": "code",
   "execution_count": 45,
   "metadata": {},
   "outputs": [
    {
     "name": "stdout",
     "output_type": "stream",
     "text": [
      "\u001b[0mcore.pack.pack_rotamers: \u001b[0mbuilt 37 rotamers at 10 positions.\n",
      "\u001b[0mcore.pack.interaction_graph.interaction_graph_factory: \u001b[0mInstantiating DensePDInteractionGraph\n"
     ]
    }
   ],
   "source": [
    "from additional_scripts import predict_ddG\n",
    "#sfxn = get_score_function()\n",
    "reference_pose1 = predict_ddG.mutate_residue(pose, 78, \"E\", 8.0, sfxn)"
   ]
  },
  {
   "cell_type": "code",
   "execution_count": 46,
   "metadata": {},
   "outputs": [
    {
     "name": "stdout",
     "output_type": "stream",
     "text": [
      "\u001b[0mcore.pack.pack_rotamers: \u001b[0mbuilt 41 rotamers at 10 positions.\n",
      "\u001b[0mcore.pack.interaction_graph.interaction_graph_factory: \u001b[0mInstantiating PDInteractionGraph\n",
      "2.739246657647776\n"
     ]
    }
   ],
   "source": [
    "# Score the alanine reference pose\n",
    "score_wt = sfxn.score(reference_pose1)\n",
    "# Repack and score the L111 conformation\n",
    "pose_mut = predict_ddG.mutate_residue(pose, 78, \"K\", 8.0, sfxn)\n",
    "score_mut = sfxn.score(pose_mut)\n",
    "# Compute the ddG of mutation as mutant_score - native_score (final-initial)\n",
    "ddG = score_mut - score_wt\n",
    "print(ddG)"
   ]
  },
  {
   "cell_type": "code",
   "execution_count": 47,
   "metadata": {},
   "outputs": [
    {
     "name": "stdout",
     "output_type": "stream",
     "text": [
      "\u001b[0mcore.pack.pack_rotamers: \u001b[0mbuilt 56 rotamers at 13 positions.\n",
      "\u001b[0mcore.pack.interaction_graph.interaction_graph_factory: \u001b[0mInstantiating PDInteractionGraph\n",
      "\u001b[0mcore.pack.pack_rotamers: \u001b[0mbuilt 41 rotamers at 10 positions.\n",
      "\u001b[0mcore.pack.interaction_graph.interaction_graph_factory: \u001b[0mInstantiating PDInteractionGraph\n",
      "PDB file name: wt.pdb\n",
      "Total residues: 179\n",
      "Sequence: REKEQFRKLFIGGLSFETTEESLRNYYEQWGKLTDCVVMRDPASKRSRGFGLVTFSSMAEVDAAMAARPHSIDGRVVEPKRAVAREESGKPGAHVTVKKLFVGGIKEDTEEHHLRDYFEEYGKIDTIEIITDRQSGKKRGFGFVTFDDHDPVDKIVLQKYHTINGHNAEVRKALSRQEM\n",
      "Fold tree:\n",
      "FOLD_TREE  EDGE 1 179 -1 \n",
      "PDB file name: wt.pdb\n",
      "Total residues: 179\n",
      "Sequence: REKEQFRKLFIGGLSFETTEESLRNYYEQWGKLTDCVVMRDPASKRSRGFGFVTFSSMAEVDAAMAARPHSIDGRVVKPKRAVAREESGKPGAHVTVKKLFVGGIKEDTEEHHLRDYFEEYGKIDTIEIITDRQSGKKRGFGFVTFDDHDPVDKIVLQKYHTINGHNAEVRKALSRQEM\n",
      "Fold tree:\n",
      "FOLD_TREE  EDGE 1 179 -1 \n"
     ]
    }
   ],
   "source": [
    "mutant_res1 = predict_ddG.mutate_residue(pose, 52, \"L\", 8.0, sfxn)\n",
    "mutant_res2 = predict_ddG.mutate_residue(pose, 78, \"K\", 8.0, sfxn)\n",
    "print(mutant_res1)\n",
    "print(mutant_res2)"
   ]
  },
  {
   "cell_type": "code",
   "execution_count": 48,
   "metadata": {},
   "outputs": [
    {
     "name": "stdout",
     "output_type": "stream",
     "text": [
      "['fa_atr', 'fa_rep', 'fa_sol', 'fa_intra_rep', 'fa_intra_sol_xover4', 'lk_ball_wtd', 'fa_elec', 'pro_close', 'hbond_sr_bb', 'hbond_lr_bb', 'hbond_bb_sc', 'hbond_sc', 'dslf_fa13', 'omega', 'fa_dun', 'p_aa_pp', 'yhh_planarity', 'ref', 'rama_prepro']\n",
      "[2.87, 11.33, 1.41, -0.0, -0.08, 0.23, -0.09, 0.0, 0.0, 0.0, 0.0, -0.01, 0.0, 0.0, -0.03, 0.67, 0.0, 0.44, 0.56]\n",
      "[0.62, -0.44, -1.94, 0.01, -0.12, 0.16, 2.59, 0.0, 0.0, 0.0, 0.0, 0.0, 0.0, 0.0, -0.58, -0.01, 0.0, 2.01, 0.42]\n",
      "17.3\n",
      "2.7199999999999993\n"
     ]
    }
   ],
   "source": [
    "def get_energy_components( native_pose, mutated_pose, sfxn): \n",
    "\n",
    "    # Extract & parse scores\n",
    "    tmp_native = native_pose.energies().total_energies().weighted_string_of( sfxn.weights() )\n",
    "    tmp_mutant = mutated_pose.energies().total_energies().weighted_string_of( sfxn.weights() )\n",
    "    array_native = list(filter( None, tmp_native.split(' ') ))\n",
    "    array_mutant = list(filter( None, tmp_mutant.split(' ') ))\n",
    "\n",
    "    # Pull out only the scores from these arrays\n",
    "    native_scores = []\n",
    "    for i in range( len(array_native) ): \n",
    "        if ( i % 2 != 0 ): \n",
    "            native_scores.append( float( array_native[i] ) )\n",
    "\n",
    "    mutant_scores = []\n",
    "    for i in range( len(array_mutant) ): \n",
    "        if ( i % 2 != 0 ): \n",
    "            mutant_scores.append( float( array_mutant[i] ) )\n",
    "\n",
    "    # Calculate ddG of individual components\n",
    "    ddGs = []\n",
    "    for i in range( len( mutant_scores ) ): \n",
    "        ddG_component = mutant_scores[i] - native_scores[i]\n",
    "        ddGs.append( round( ddG_component, 2 ) )\n",
    "\n",
    "    # Get labels\n",
    "    labels = []\n",
    "    for i in range( len(array_native) ): \n",
    "        if ( i % 2 == 0 ): \n",
    "            labels.append( array_native[i].translate(':').strip(\":\") )\n",
    "\n",
    "    return labels, ddGs\n",
    "\n",
    "# Compute the ddG breakdown\n",
    "labels, res1_ddGs = get_energy_components( reference_pose, mutant_res1, sfxn )\n",
    "labels, res2_ddGs = get_energy_components( reference_pose1, mutant_res2, sfxn )\n",
    "print(labels)\n",
    "print(res1_ddGs)\n",
    "print(res2_ddGs)\n",
    "total =sum(res1_ddGs)\n",
    "total1 =sum(res2_ddGs)\n",
    "print(total)\n",
    "print(total1)"
   ]
  },
  {
   "cell_type": "code",
   "execution_count": 49,
   "metadata": {},
   "outputs": [
    {
     "data": {
      "image/png": "[encoded data removed]",
      "text/plain": [
       "<Figure size 432x288 with 1 Axes>"
      ]
     },
     "metadata": {
      "needs_background": "light"
     },
     "output_type": "display_data"
    },
    {
     "data": {
      "image/png": "[encoded data removed]",
      "text/plain": [
       "<Figure size 432x288 with 1 Axes>"
      ]
     },
     "metadata": {
      "needs_background": "light"
     },
     "output_type": "display_data"
    }
   ],
   "source": [
    "import numpy as np\n",
    "import matplotlib.pyplot as plt\n",
    "\n",
    "x = np.arange(len(labels))  \n",
    "width = 1  # the width of the bars\n",
    "\n",
    "# Plot for lysine\n",
    "fig, ax = plt.subplots()\n",
    "rects2 = ax.bar(x, res1_ddGs, width, label='R')\n",
    "ax.set_ylabel('∆∆G (REU)')\n",
    "ax.set_title('Contributions to the ∆∆G of Mutation for mut1')\n",
    "ax.set_xticks(x)\n",
    "ax.set_xticklabels(labels, rotation='vertical')\n",
    "ax.legend()\n",
    "fig.tight_layout()\n",
    "\n",
    "# Plot for lysine\n",
    "fig, ax = plt.subplots()\n",
    "rects3 = ax.bar(x, res2_ddGs, width, label='C' )\n",
    "ax.set_ylabel('∆∆G (REU)')\n",
    "ax.set_title('Contributions to the ∆∆G of Mutation for mut2')\n",
    "ax.set_xticks(x)\n",
    "ax.set_xticklabels(labels, rotation='vertical')\n",
    "ax.legend()\n",
    "fig.tight_layout()"
   ]
  },
  {
   "cell_type": "code",
   "execution_count": null,
   "metadata": {},
   "outputs": [],
   "source": []
  }
 ],
 "metadata": {
  "kernelspec": {
   "display_name": "Python 3",
   "language": "python",
   "name": "python3"
  },
  "language_info": {
   "codemirror_mode": {
    "name": "ipython",
    "version": 3
   },
   "file_extension": ".py",
   "mimetype": "text/x-python",
   "name": "python",
   "nbconvert_exporter": "python",
   "pygments_lexer": "ipython3",
   "version": "3.6.13"
  }
 },
 "nbformat": 4,
 "nbformat_minor": 4
}
